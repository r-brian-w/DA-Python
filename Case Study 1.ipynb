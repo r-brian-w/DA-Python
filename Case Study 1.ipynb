{
 "cells": [
  {
   "cell_type": "markdown",
   "id": "d484bcf6",
   "metadata": {},
   "source": [
    "# Import Function"
   ]
  },
  {
   "cell_type": "code",
   "execution_count": 1,
   "id": "1c460e91",
   "metadata": {},
   "outputs": [],
   "source": [
    "# Data Analysis using csv, pandas, numpy, and matplotlib\n",
    "# csv for load csv file\n",
    "# pandas for column, database, table\n",
    "# numpy for numeric, math\n",
    "# mathplotlib for design, data visualization"
   ]
  },
  {
   "cell_type": "code",
   "execution_count": 1,
   "id": "74223ad6",
   "metadata": {},
   "outputs": [],
   "source": [
    "import csv\n",
    "import pandas as pd\n",
    "import numpy as np\n",
    "import matplotlib.pyplot as plt\n",
    "import glob\n",
    "import os\n",
    "import datetime as dt"
   ]
  },
  {
   "cell_type": "markdown",
   "id": "d127b791",
   "metadata": {},
   "source": [
    "# Combine all dataset"
   ]
  },
  {
   "cell_type": "code",
   "execution_count": null,
   "id": "f61aba83",
   "metadata": {},
   "outputs": [],
   "source": [
    "folder_name = 'dataset'\n",
    "file_type = 'csv'\n",
    "seperator =','\n",
    "dataframe = pd.concat([pd.read_csv(f, sep=seperator) for f in glob.glob(folder_name + \"/*.\"+file_type)],ignore_index=True)"
   ]
  },
  {
   "cell_type": "code",
   "execution_count": null,
   "id": "1db221ba",
   "metadata": {},
   "outputs": [],
   "source": [
    "dataframe"
   ]
  },
  {
   "cell_type": "code",
   "execution_count": 2,
   "id": "fd63006f",
   "metadata": {},
   "outputs": [],
   "source": [
    "# load csv\n",
    "\n",
    "with open('Merged.csv') as csv_file:\n",
    "    csv_read=csv.reader(csv_file, delimiter=',')"
   ]
  },
  {
   "cell_type": "code",
   "execution_count": 3,
   "id": "6a2c222a",
   "metadata": {},
   "outputs": [
    {
     "data": {
      "text/html": [
       "<div>\n",
       "<style scoped>\n",
       "    .dataframe tbody tr th:only-of-type {\n",
       "        vertical-align: middle;\n",
       "    }\n",
       "\n",
       "    .dataframe tbody tr th {\n",
       "        vertical-align: top;\n",
       "    }\n",
       "\n",
       "    .dataframe thead th {\n",
       "        text-align: right;\n",
       "    }\n",
       "</style>\n",
       "<table border=\"1\" class=\"dataframe\">\n",
       "  <thead>\n",
       "    <tr style=\"text-align: right;\">\n",
       "      <th></th>\n",
       "      <th>Unnamed: 0</th>\n",
       "      <th>ride_id</th>\n",
       "      <th>rideable_type</th>\n",
       "      <th>started_at</th>\n",
       "      <th>ended_at</th>\n",
       "      <th>start_station_name</th>\n",
       "      <th>start_station_id</th>\n",
       "      <th>end_station_name</th>\n",
       "      <th>end_station_id</th>\n",
       "      <th>start_lat</th>\n",
       "      <th>start_lng</th>\n",
       "      <th>end_lat</th>\n",
       "      <th>end_lng</th>\n",
       "      <th>member_casual</th>\n",
       "      <th>using_bike</th>\n",
       "      <th>start_day</th>\n",
       "    </tr>\n",
       "  </thead>\n",
       "  <tbody>\n",
       "    <tr>\n",
       "      <th>0</th>\n",
       "      <td>0</td>\n",
       "      <td>C2F7DD78E82EC875</td>\n",
       "      <td>electric_bike</td>\n",
       "      <td>2022-01-13 11:59:47</td>\n",
       "      <td>2022-01-13 12:02:44</td>\n",
       "      <td>Glenwood Ave &amp; Touhy Ave</td>\n",
       "      <td>525</td>\n",
       "      <td>Clark St &amp; Touhy Ave</td>\n",
       "      <td>RP-007</td>\n",
       "      <td>42.012800</td>\n",
       "      <td>-87.665906</td>\n",
       "      <td>42.012560</td>\n",
       "      <td>-87.674367</td>\n",
       "      <td>casual</td>\n",
       "      <td>0 days 00:02:57</td>\n",
       "      <td>Thursday</td>\n",
       "    </tr>\n",
       "    <tr>\n",
       "      <th>1</th>\n",
       "      <td>1</td>\n",
       "      <td>A6CF8980A652D272</td>\n",
       "      <td>electric_bike</td>\n",
       "      <td>2022-01-10 08:41:56</td>\n",
       "      <td>2022-01-10 08:46:17</td>\n",
       "      <td>Glenwood Ave &amp; Touhy Ave</td>\n",
       "      <td>525</td>\n",
       "      <td>Clark St &amp; Touhy Ave</td>\n",
       "      <td>RP-007</td>\n",
       "      <td>42.012763</td>\n",
       "      <td>-87.665967</td>\n",
       "      <td>42.012560</td>\n",
       "      <td>-87.674367</td>\n",
       "      <td>casual</td>\n",
       "      <td>0 days 00:04:21</td>\n",
       "      <td>Monday</td>\n",
       "    </tr>\n",
       "    <tr>\n",
       "      <th>2</th>\n",
       "      <td>2</td>\n",
       "      <td>BD0F91DFF741C66D</td>\n",
       "      <td>classic_bike</td>\n",
       "      <td>2022-01-25 04:53:40</td>\n",
       "      <td>2022-01-25 04:58:01</td>\n",
       "      <td>Sheffield Ave &amp; Fullerton Ave</td>\n",
       "      <td>TA1306000016</td>\n",
       "      <td>Greenview Ave &amp; Fullerton Ave</td>\n",
       "      <td>TA1307000001</td>\n",
       "      <td>41.925602</td>\n",
       "      <td>-87.653708</td>\n",
       "      <td>41.925330</td>\n",
       "      <td>-87.665800</td>\n",
       "      <td>member</td>\n",
       "      <td>0 days 00:04:21</td>\n",
       "      <td>Tuesday</td>\n",
       "    </tr>\n",
       "    <tr>\n",
       "      <th>3</th>\n",
       "      <td>3</td>\n",
       "      <td>CBB80ED419105406</td>\n",
       "      <td>classic_bike</td>\n",
       "      <td>2022-01-04 00:18:04</td>\n",
       "      <td>2022-01-04 00:33:00</td>\n",
       "      <td>Clark St &amp; Bryn Mawr Ave</td>\n",
       "      <td>KA1504000151</td>\n",
       "      <td>Paulina St &amp; Montrose Ave</td>\n",
       "      <td>TA1309000021</td>\n",
       "      <td>41.983593</td>\n",
       "      <td>-87.669154</td>\n",
       "      <td>41.961507</td>\n",
       "      <td>-87.671387</td>\n",
       "      <td>casual</td>\n",
       "      <td>0 days 00:14:56</td>\n",
       "      <td>Tuesday</td>\n",
       "    </tr>\n",
       "    <tr>\n",
       "      <th>4</th>\n",
       "      <td>4</td>\n",
       "      <td>DDC963BFDDA51EEA</td>\n",
       "      <td>classic_bike</td>\n",
       "      <td>2022-01-20 01:31:10</td>\n",
       "      <td>2022-01-20 01:37:12</td>\n",
       "      <td>Michigan Ave &amp; Jackson Blvd</td>\n",
       "      <td>TA1309000002</td>\n",
       "      <td>State St &amp; Randolph St</td>\n",
       "      <td>TA1305000029</td>\n",
       "      <td>41.877850</td>\n",
       "      <td>-87.624080</td>\n",
       "      <td>41.884621</td>\n",
       "      <td>-87.627834</td>\n",
       "      <td>member</td>\n",
       "      <td>0 days 00:06:02</td>\n",
       "      <td>Thursday</td>\n",
       "    </tr>\n",
       "  </tbody>\n",
       "</table>\n",
       "</div>"
      ],
      "text/plain": [
       "   Unnamed: 0           ride_id  rideable_type           started_at  \\\n",
       "0           0  C2F7DD78E82EC875  electric_bike  2022-01-13 11:59:47   \n",
       "1           1  A6CF8980A652D272  electric_bike  2022-01-10 08:41:56   \n",
       "2           2  BD0F91DFF741C66D   classic_bike  2022-01-25 04:53:40   \n",
       "3           3  CBB80ED419105406   classic_bike  2022-01-04 00:18:04   \n",
       "4           4  DDC963BFDDA51EEA   classic_bike  2022-01-20 01:31:10   \n",
       "\n",
       "              ended_at             start_station_name start_station_id  \\\n",
       "0  2022-01-13 12:02:44       Glenwood Ave & Touhy Ave              525   \n",
       "1  2022-01-10 08:46:17       Glenwood Ave & Touhy Ave              525   \n",
       "2  2022-01-25 04:58:01  Sheffield Ave & Fullerton Ave     TA1306000016   \n",
       "3  2022-01-04 00:33:00       Clark St & Bryn Mawr Ave     KA1504000151   \n",
       "4  2022-01-20 01:37:12    Michigan Ave & Jackson Blvd     TA1309000002   \n",
       "\n",
       "                end_station_name end_station_id  start_lat  start_lng  \\\n",
       "0           Clark St & Touhy Ave         RP-007  42.012800 -87.665906   \n",
       "1           Clark St & Touhy Ave         RP-007  42.012763 -87.665967   \n",
       "2  Greenview Ave & Fullerton Ave   TA1307000001  41.925602 -87.653708   \n",
       "3      Paulina St & Montrose Ave   TA1309000021  41.983593 -87.669154   \n",
       "4         State St & Randolph St   TA1305000029  41.877850 -87.624080   \n",
       "\n",
       "     end_lat    end_lng member_casual       using_bike start_day  \n",
       "0  42.012560 -87.674367        casual  0 days 00:02:57  Thursday  \n",
       "1  42.012560 -87.674367        casual  0 days 00:04:21    Monday  \n",
       "2  41.925330 -87.665800        member  0 days 00:04:21   Tuesday  \n",
       "3  41.961507 -87.671387        casual  0 days 00:14:56   Tuesday  \n",
       "4  41.884621 -87.627834        member  0 days 00:06:02  Thursday  "
      ]
     },
     "execution_count": 3,
     "metadata": {},
     "output_type": "execute_result"
    }
   ],
   "source": [
    "# make csv to table\n",
    "# sometime using df as dataframe\n",
    "\n",
    "dataframe = pd.read_csv('Merged.csv')\n",
    "dataframe.head() # to display the first 5 lines of loaded data"
   ]
  },
  {
   "cell_type": "markdown",
   "id": "2d26412e",
   "metadata": {},
   "source": [
    "# Check table"
   ]
  },
  {
   "cell_type": "code",
   "execution_count": 4,
   "id": "d738cfff",
   "metadata": {},
   "outputs": [],
   "source": [
    "# DROP COLUMN\n",
    "dataframe = dataframe.drop(columns='Unnamed: 0')"
   ]
  },
  {
   "cell_type": "code",
   "execution_count": null,
   "id": "7722774b",
   "metadata": {},
   "outputs": [],
   "source": [
    "# RENAMING COLUMNS\n",
    "\n",
    "dataframe.rename(columns = {'Using Bike':'using_bike'}, inplace = True)"
   ]
  },
  {
   "cell_type": "code",
   "execution_count": null,
   "id": "67b5a11b",
   "metadata": {},
   "outputs": [],
   "source": [
    "#dataframe['using_bike'] = dataframe['Using Bike']"
   ]
  },
  {
   "cell_type": "code",
   "execution_count": 7,
   "id": "3dfe2f0b",
   "metadata": {},
   "outputs": [
    {
     "data": {
      "text/html": [
       "<div>\n",
       "<style scoped>\n",
       "    .dataframe tbody tr th:only-of-type {\n",
       "        vertical-align: middle;\n",
       "    }\n",
       "\n",
       "    .dataframe tbody tr th {\n",
       "        vertical-align: top;\n",
       "    }\n",
       "\n",
       "    .dataframe thead th {\n",
       "        text-align: right;\n",
       "    }\n",
       "</style>\n",
       "<table border=\"1\" class=\"dataframe\">\n",
       "  <thead>\n",
       "    <tr style=\"text-align: right;\">\n",
       "      <th></th>\n",
       "      <th>ride_id</th>\n",
       "      <th>rideable_type</th>\n",
       "      <th>started_at</th>\n",
       "      <th>ended_at</th>\n",
       "      <th>start_station_name</th>\n",
       "      <th>start_station_id</th>\n",
       "      <th>end_station_name</th>\n",
       "      <th>end_station_id</th>\n",
       "      <th>start_lat</th>\n",
       "      <th>start_lng</th>\n",
       "      <th>end_lat</th>\n",
       "      <th>end_lng</th>\n",
       "      <th>member_casual</th>\n",
       "      <th>using_bike</th>\n",
       "      <th>start_day</th>\n",
       "    </tr>\n",
       "  </thead>\n",
       "  <tbody>\n",
       "    <tr>\n",
       "      <th>0</th>\n",
       "      <td>C2F7DD78E82EC875</td>\n",
       "      <td>electric_bike</td>\n",
       "      <td>2022-01-13 11:59:47</td>\n",
       "      <td>2022-01-13 12:02:44</td>\n",
       "      <td>Glenwood Ave &amp; Touhy Ave</td>\n",
       "      <td>525</td>\n",
       "      <td>Clark St &amp; Touhy Ave</td>\n",
       "      <td>RP-007</td>\n",
       "      <td>42.012800</td>\n",
       "      <td>-87.665906</td>\n",
       "      <td>42.012560</td>\n",
       "      <td>-87.674367</td>\n",
       "      <td>casual</td>\n",
       "      <td>0 days 00:02:57</td>\n",
       "      <td>Thursday</td>\n",
       "    </tr>\n",
       "    <tr>\n",
       "      <th>1</th>\n",
       "      <td>A6CF8980A652D272</td>\n",
       "      <td>electric_bike</td>\n",
       "      <td>2022-01-10 08:41:56</td>\n",
       "      <td>2022-01-10 08:46:17</td>\n",
       "      <td>Glenwood Ave &amp; Touhy Ave</td>\n",
       "      <td>525</td>\n",
       "      <td>Clark St &amp; Touhy Ave</td>\n",
       "      <td>RP-007</td>\n",
       "      <td>42.012763</td>\n",
       "      <td>-87.665967</td>\n",
       "      <td>42.012560</td>\n",
       "      <td>-87.674367</td>\n",
       "      <td>casual</td>\n",
       "      <td>0 days 00:04:21</td>\n",
       "      <td>Monday</td>\n",
       "    </tr>\n",
       "    <tr>\n",
       "      <th>2</th>\n",
       "      <td>BD0F91DFF741C66D</td>\n",
       "      <td>classic_bike</td>\n",
       "      <td>2022-01-25 04:53:40</td>\n",
       "      <td>2022-01-25 04:58:01</td>\n",
       "      <td>Sheffield Ave &amp; Fullerton Ave</td>\n",
       "      <td>TA1306000016</td>\n",
       "      <td>Greenview Ave &amp; Fullerton Ave</td>\n",
       "      <td>TA1307000001</td>\n",
       "      <td>41.925602</td>\n",
       "      <td>-87.653708</td>\n",
       "      <td>41.925330</td>\n",
       "      <td>-87.665800</td>\n",
       "      <td>member</td>\n",
       "      <td>0 days 00:04:21</td>\n",
       "      <td>Tuesday</td>\n",
       "    </tr>\n",
       "    <tr>\n",
       "      <th>3</th>\n",
       "      <td>CBB80ED419105406</td>\n",
       "      <td>classic_bike</td>\n",
       "      <td>2022-01-04 00:18:04</td>\n",
       "      <td>2022-01-04 00:33:00</td>\n",
       "      <td>Clark St &amp; Bryn Mawr Ave</td>\n",
       "      <td>KA1504000151</td>\n",
       "      <td>Paulina St &amp; Montrose Ave</td>\n",
       "      <td>TA1309000021</td>\n",
       "      <td>41.983593</td>\n",
       "      <td>-87.669154</td>\n",
       "      <td>41.961507</td>\n",
       "      <td>-87.671387</td>\n",
       "      <td>casual</td>\n",
       "      <td>0 days 00:14:56</td>\n",
       "      <td>Tuesday</td>\n",
       "    </tr>\n",
       "    <tr>\n",
       "      <th>4</th>\n",
       "      <td>DDC963BFDDA51EEA</td>\n",
       "      <td>classic_bike</td>\n",
       "      <td>2022-01-20 01:31:10</td>\n",
       "      <td>2022-01-20 01:37:12</td>\n",
       "      <td>Michigan Ave &amp; Jackson Blvd</td>\n",
       "      <td>TA1309000002</td>\n",
       "      <td>State St &amp; Randolph St</td>\n",
       "      <td>TA1305000029</td>\n",
       "      <td>41.877850</td>\n",
       "      <td>-87.624080</td>\n",
       "      <td>41.884621</td>\n",
       "      <td>-87.627834</td>\n",
       "      <td>member</td>\n",
       "      <td>0 days 00:06:02</td>\n",
       "      <td>Thursday</td>\n",
       "    </tr>\n",
       "  </tbody>\n",
       "</table>\n",
       "</div>"
      ],
      "text/plain": [
       "            ride_id  rideable_type           started_at             ended_at  \\\n",
       "0  C2F7DD78E82EC875  electric_bike  2022-01-13 11:59:47  2022-01-13 12:02:44   \n",
       "1  A6CF8980A652D272  electric_bike  2022-01-10 08:41:56  2022-01-10 08:46:17   \n",
       "2  BD0F91DFF741C66D   classic_bike  2022-01-25 04:53:40  2022-01-25 04:58:01   \n",
       "3  CBB80ED419105406   classic_bike  2022-01-04 00:18:04  2022-01-04 00:33:00   \n",
       "4  DDC963BFDDA51EEA   classic_bike  2022-01-20 01:31:10  2022-01-20 01:37:12   \n",
       "\n",
       "              start_station_name start_station_id  \\\n",
       "0       Glenwood Ave & Touhy Ave              525   \n",
       "1       Glenwood Ave & Touhy Ave              525   \n",
       "2  Sheffield Ave & Fullerton Ave     TA1306000016   \n",
       "3       Clark St & Bryn Mawr Ave     KA1504000151   \n",
       "4    Michigan Ave & Jackson Blvd     TA1309000002   \n",
       "\n",
       "                end_station_name end_station_id  start_lat  start_lng  \\\n",
       "0           Clark St & Touhy Ave         RP-007  42.012800 -87.665906   \n",
       "1           Clark St & Touhy Ave         RP-007  42.012763 -87.665967   \n",
       "2  Greenview Ave & Fullerton Ave   TA1307000001  41.925602 -87.653708   \n",
       "3      Paulina St & Montrose Ave   TA1309000021  41.983593 -87.669154   \n",
       "4         State St & Randolph St   TA1305000029  41.877850 -87.624080   \n",
       "\n",
       "     end_lat    end_lng member_casual       using_bike start_day  \n",
       "0  42.012560 -87.674367        casual  0 days 00:02:57  Thursday  \n",
       "1  42.012560 -87.674367        casual  0 days 00:04:21    Monday  \n",
       "2  41.925330 -87.665800        member  0 days 00:04:21   Tuesday  \n",
       "3  41.961507 -87.671387        casual  0 days 00:14:56   Tuesday  \n",
       "4  41.884621 -87.627834        member  0 days 00:06:02  Thursday  "
      ]
     },
     "execution_count": 7,
     "metadata": {},
     "output_type": "execute_result"
    }
   ],
   "source": [
    "dataframe.head()"
   ]
  },
  {
   "cell_type": "code",
   "execution_count": 8,
   "id": "37bc94af",
   "metadata": {},
   "outputs": [
    {
     "name": "stdout",
     "output_type": "stream",
     "text": [
      "<class 'pandas.core.frame.DataFrame'>\n",
      "RangeIndex: 3476262 entries, 0 to 3476261\n",
      "Data columns (total 15 columns):\n",
      " #   Column              Dtype  \n",
      "---  ------              -----  \n",
      " 0   ride_id             object \n",
      " 1   rideable_type       object \n",
      " 2   started_at          object \n",
      " 3   ended_at            object \n",
      " 4   start_station_name  object \n",
      " 5   start_station_id    object \n",
      " 6   end_station_name    object \n",
      " 7   end_station_id      object \n",
      " 8   start_lat           float64\n",
      " 9   start_lng           float64\n",
      " 10  end_lat             float64\n",
      " 11  end_lng             float64\n",
      " 12  member_casual       object \n",
      " 13  using_bike          object \n",
      " 14  start_day           object \n",
      "dtypes: float64(4), object(11)\n",
      "memory usage: 397.8+ MB\n"
     ]
    }
   ],
   "source": [
    "# Information of table or database\n",
    "\n",
    "dataframe.info()"
   ]
  },
  {
   "cell_type": "code",
   "execution_count": 76,
   "id": "5c5d0ed4",
   "metadata": {
    "scrolled": true
   },
   "outputs": [
    {
     "data": {
      "text/plain": [
       "classic_bike     2024823\n",
       "electric_bike    1318778\n",
       "docked_bike       132661\n",
       "Name: rideable_type, dtype: int64"
      ]
     },
     "execution_count": 76,
     "metadata": {},
     "output_type": "execute_result"
    }
   ],
   "source": [
    "# Count Unique Value\n",
    "\n",
    "dataframe.rideable_type.value_counts()"
   ]
  },
  {
   "cell_type": "code",
   "execution_count": 77,
   "id": "4690a9b8",
   "metadata": {},
   "outputs": [
    {
     "data": {
      "text/plain": [
       "member    2102119\n",
       "casual    1374143\n",
       "Name: member_casual, dtype: int64"
      ]
     },
     "execution_count": 77,
     "metadata": {},
     "output_type": "execute_result"
    }
   ],
   "source": [
    "\n",
    "dataframe.member_casual.value_counts()"
   ]
  },
  {
   "cell_type": "code",
   "execution_count": null,
   "id": "8527d3e5",
   "metadata": {},
   "outputs": [],
   "source": [
    "dataframe[\"start_station_name\"]"
   ]
  },
  {
   "cell_type": "code",
   "execution_count": null,
   "id": "c207d52b",
   "metadata": {},
   "outputs": [],
   "source": [
    "# Make text become Like This One\n",
    "\n",
    "dataframe[\"start_station_name\"].str.upper().str.title()"
   ]
  },
  {
   "cell_type": "markdown",
   "id": "6c326c72",
   "metadata": {},
   "source": [
    "# Check Duplicates"
   ]
  },
  {
   "cell_type": "code",
   "execution_count": 78,
   "id": "af88b580",
   "metadata": {},
   "outputs": [
    {
     "data": {
      "text/html": [
       "<div>\n",
       "<style scoped>\n",
       "    .dataframe tbody tr th:only-of-type {\n",
       "        vertical-align: middle;\n",
       "    }\n",
       "\n",
       "    .dataframe tbody tr th {\n",
       "        vertical-align: top;\n",
       "    }\n",
       "\n",
       "    .dataframe thead th {\n",
       "        text-align: right;\n",
       "    }\n",
       "</style>\n",
       "<table border=\"1\" class=\"dataframe\">\n",
       "  <thead>\n",
       "    <tr style=\"text-align: right;\">\n",
       "      <th></th>\n",
       "      <th>ride_id</th>\n",
       "      <th>rideable_type</th>\n",
       "      <th>started_at</th>\n",
       "      <th>ended_at</th>\n",
       "      <th>start_station_name</th>\n",
       "      <th>start_station_id</th>\n",
       "      <th>end_station_name</th>\n",
       "      <th>end_station_id</th>\n",
       "      <th>start_lat</th>\n",
       "      <th>start_lng</th>\n",
       "      <th>end_lat</th>\n",
       "      <th>end_lng</th>\n",
       "      <th>member_casual</th>\n",
       "      <th>using_bike</th>\n",
       "      <th>start_day</th>\n",
       "    </tr>\n",
       "  </thead>\n",
       "  <tbody>\n",
       "  </tbody>\n",
       "</table>\n",
       "</div>"
      ],
      "text/plain": [
       "Empty DataFrame\n",
       "Columns: [ride_id, rideable_type, started_at, ended_at, start_station_name, start_station_id, end_station_name, end_station_id, start_lat, start_lng, end_lat, end_lng, member_casual, using_bike, start_day]\n",
       "Index: []"
      ]
     },
     "execution_count": 78,
     "metadata": {},
     "output_type": "execute_result"
    }
   ],
   "source": [
    "#identify duplicate rows\n",
    "duplicateRows = dataframe[dataframe.duplicated()]\n",
    "\n",
    "#view duplicate rows\n",
    "duplicateRows"
   ]
  },
  {
   "cell_type": "code",
   "execution_count": null,
   "id": "73a0f0ff",
   "metadata": {},
   "outputs": [],
   "source": [
    "# Delete duplicate\n",
    "# inplace = True have function for implement result directly to table\n",
    "\n",
    "data.drop_duplicates(inplace=True)"
   ]
  },
  {
   "cell_type": "markdown",
   "id": "9b7b2f4e",
   "metadata": {},
   "source": [
    "# Check if there Nan, Null, or Zeros"
   ]
  },
  {
   "cell_type": "code",
   "execution_count": 75,
   "id": "980e3b7d",
   "metadata": {},
   "outputs": [
    {
     "data": {
      "text/plain": [
       "False"
      ]
     },
     "execution_count": 75,
     "metadata": {},
     "output_type": "execute_result"
    }
   ],
   "source": [
    "# check if there null value in dataframe / table \n",
    "# True = there null\n",
    "# false = not have null value\n",
    "\n",
    "dataframe.isnull().values.any()"
   ]
  },
  {
   "cell_type": "code",
   "execution_count": null,
   "id": "99fde632",
   "metadata": {},
   "outputs": [],
   "source": [
    "# sum null data in table\n",
    "\n",
    "dataframe.isnull().sum().sum()"
   ]
  },
  {
   "cell_type": "code",
   "execution_count": null,
   "id": "bec7c387",
   "metadata": {},
   "outputs": [],
   "source": [
    "# NaN value in Columns\n",
    "\n",
    "dataframe.isna().any()"
   ]
  },
  {
   "cell_type": "code",
   "execution_count": null,
   "id": "8de8a994",
   "metadata": {},
   "outputs": [],
   "source": [
    "# NaN value in Columns\n",
    "\n",
    "dataframe.isnull().any()"
   ]
  },
  {
   "cell_type": "code",
   "execution_count": null,
   "id": "50f8385e",
   "metadata": {},
   "outputs": [],
   "source": [
    "# NaN value in Columns\n",
    "# show in dataframe\n",
    "\n",
    "dataframe[dataframe.columns[dataframe.isna().any()]]"
   ]
  },
  {
   "cell_type": "code",
   "execution_count": null,
   "id": "18b93526",
   "metadata": {},
   "outputs": [],
   "source": [
    "# Drop Nan, Null Values\n",
    "# Change inplace to True if want to directly aplly to table\n",
    "# use subset='columns' if searching to certain columns\n",
    "\n",
    "dataframe.dropna(axis=0, inplace=True)"
   ]
  },
  {
   "cell_type": "code",
   "execution_count": null,
   "id": "d924ad1c",
   "metadata": {},
   "outputs": [],
   "source": [
    "# Reset Index after manipulation data\n",
    "# reset index add index columns\n",
    "# Need to drop / delete it\n",
    "\n",
    "dataframe.reset_index(inplace = True, drop = True)"
   ]
  },
  {
   "cell_type": "code",
   "execution_count": null,
   "id": "185c745e",
   "metadata": {},
   "outputs": [],
   "source": [
    "dataframe.head(5)"
   ]
  },
  {
   "cell_type": "markdown",
   "id": "f2508b1b",
   "metadata": {},
   "source": [
    "# Analyze"
   ]
  },
  {
   "cell_type": "code",
   "execution_count": null,
   "id": "0d6e31b7",
   "metadata": {},
   "outputs": [],
   "source": [
    "# check if using_bike value minus or positive\n",
    "\n",
    "#print(dataframe[dataframe.using_bike == dataframe.using_bike.min()])\n",
    "\n",
    "dataframe[dataframe.using_bike == dataframe.using_bike.min()]"
   ]
  },
  {
   "cell_type": "code",
   "execution_count": null,
   "id": "d9f684ff",
   "metadata": {
    "scrolled": true
   },
   "outputs": [],
   "source": [
    "# checking manual with ride_id\n",
    "# there already technique that make easier\n",
    "\n",
    "dataframe[dataframe['ride_id'] == 'E94F1FD1306C0F9D']"
   ]
  },
  {
   "cell_type": "code",
   "execution_count": null,
   "id": "20f350c7",
   "metadata": {},
   "outputs": [],
   "source": [
    "# declare variable to make more easy\n",
    "# only 1 row to change value\n",
    "\n",
    "sv = (dataframe['ride_id'] == '5FBFC1FD44AD3467')\n"
   ]
  },
  {
   "cell_type": "code",
   "execution_count": 45,
   "id": "4d59e9e9",
   "metadata": {},
   "outputs": [
    {
     "data": {
      "text/html": [
       "<div>\n",
       "<style scoped>\n",
       "    .dataframe tbody tr th:only-of-type {\n",
       "        vertical-align: middle;\n",
       "    }\n",
       "\n",
       "    .dataframe tbody tr th {\n",
       "        vertical-align: top;\n",
       "    }\n",
       "\n",
       "    .dataframe thead th {\n",
       "        text-align: right;\n",
       "    }\n",
       "</style>\n",
       "<table border=\"1\" class=\"dataframe\">\n",
       "  <thead>\n",
       "    <tr style=\"text-align: right;\">\n",
       "      <th></th>\n",
       "      <th>ride_id</th>\n",
       "      <th>rideable_type</th>\n",
       "      <th>started_at</th>\n",
       "      <th>ended_at</th>\n",
       "      <th>start_station_name</th>\n",
       "      <th>start_station_id</th>\n",
       "      <th>end_station_name</th>\n",
       "      <th>end_station_id</th>\n",
       "      <th>start_lat</th>\n",
       "      <th>start_lng</th>\n",
       "      <th>end_lat</th>\n",
       "      <th>end_lng</th>\n",
       "      <th>member_casual</th>\n",
       "      <th>using_bike</th>\n",
       "      <th>start</th>\n",
       "      <th>ended</th>\n",
       "    </tr>\n",
       "  </thead>\n",
       "  <tbody>\n",
       "  </tbody>\n",
       "</table>\n",
       "</div>"
      ],
      "text/plain": [
       "Empty DataFrame\n",
       "Columns: [ride_id, rideable_type, started_at, ended_at, start_station_name, start_station_id, end_station_name, end_station_id, start_lat, start_lng, end_lat, end_lng, member_casual, using_bike, start, ended]\n",
       "Index: []"
      ]
     },
     "execution_count": 45,
     "metadata": {},
     "output_type": "execute_result"
    }
   ],
   "source": [
    "# check if ended_at value less than started_at\n",
    "\n",
    "dataframe[dataframe['ended_at'] < dataframe['started_at']]"
   ]
  },
  {
   "cell_type": "code",
   "execution_count": 46,
   "id": "7d0fa076",
   "metadata": {},
   "outputs": [
    {
     "data": {
      "text/html": [
       "<div>\n",
       "<style scoped>\n",
       "    .dataframe tbody tr th:only-of-type {\n",
       "        vertical-align: middle;\n",
       "    }\n",
       "\n",
       "    .dataframe tbody tr th {\n",
       "        vertical-align: top;\n",
       "    }\n",
       "\n",
       "    .dataframe thead th {\n",
       "        text-align: right;\n",
       "    }\n",
       "</style>\n",
       "<table border=\"1\" class=\"dataframe\">\n",
       "  <thead>\n",
       "    <tr style=\"text-align: right;\">\n",
       "      <th></th>\n",
       "      <th>ride_id</th>\n",
       "      <th>rideable_type</th>\n",
       "      <th>started_at</th>\n",
       "      <th>ended_at</th>\n",
       "      <th>start_station_name</th>\n",
       "      <th>start_station_id</th>\n",
       "      <th>end_station_name</th>\n",
       "      <th>end_station_id</th>\n",
       "      <th>start_lat</th>\n",
       "      <th>start_lng</th>\n",
       "      <th>end_lat</th>\n",
       "      <th>end_lng</th>\n",
       "      <th>member_casual</th>\n",
       "      <th>using_bike</th>\n",
       "      <th>start</th>\n",
       "      <th>ended</th>\n",
       "    </tr>\n",
       "  </thead>\n",
       "  <tbody>\n",
       "  </tbody>\n",
       "</table>\n",
       "</div>"
      ],
      "text/plain": [
       "Empty DataFrame\n",
       "Columns: [ride_id, rideable_type, started_at, ended_at, start_station_name, start_station_id, end_station_name, end_station_id, start_lat, start_lng, end_lat, end_lng, member_casual, using_bike, start, ended]\n",
       "Index: []"
      ]
     },
     "execution_count": 46,
     "metadata": {},
     "output_type": "execute_result"
    }
   ],
   "source": [
    "# check if there ended_at value same with started_at value\n",
    "\n",
    "dataframe[dataframe['ended_at'] == dataframe['started_at']]"
   ]
  },
  {
   "cell_type": "code",
   "execution_count": 39,
   "id": "381c0290",
   "metadata": {},
   "outputs": [],
   "source": [
    "# can swap value using this\n",
    "# but still error\n",
    "# https://stackoverflow.com/questions/46332764/pandas-conditionaly-swap-values-in-two-columns\n",
    "# its work\n",
    "\n",
    "ary=np.where(dataframe.ended_at<dataframe.started_at,[dataframe.started_at,dataframe.ended_at],[dataframe.ended_at,dataframe.started_at])\n",
    "nt = pd.DataFrame({'ended_at':ary[0], 'started_at':ary[1]})\n",
    "\n",
    "# applying to dataframe\n",
    "\n",
    "dataframe['started_at'] = pd.DataFrame({'started_at':ary[1]})\n",
    "dataframe['ended_at'] = pd.DataFrame({'ended_at':ary[0]})"
   ]
  },
  {
   "cell_type": "code",
   "execution_count": null,
   "id": "2b0ec652",
   "metadata": {},
   "outputs": [],
   "source": [
    "# checking nt table\n",
    "\n",
    "nt"
   ]
  },
  {
   "cell_type": "code",
   "execution_count": null,
   "id": "6516db8c",
   "metadata": {},
   "outputs": [],
   "source": [
    "# still chekcing\n",
    "\n",
    "nt[nt.started_at == nt.started_at.min()]"
   ]
  },
  {
   "cell_type": "code",
   "execution_count": null,
   "id": "bdf4845e",
   "metadata": {},
   "outputs": [],
   "source": [
    "# still chekcing\n",
    "\n",
    "nt[nt.started_at == nt.started_at.min()]"
   ]
  },
  {
   "cell_type": "code",
   "execution_count": null,
   "id": "cfaa994c",
   "metadata": {
    "scrolled": true
   },
   "outputs": [],
   "source": [
    "# switch value for 2 columns in 1 row\n",
    "# can only used for 1 rows\n",
    "# multiple rows result in error\n",
    "\n",
    "# can skip this, use above code\n",
    "\n",
    "#dataframe.loc[sv,['started_at','ended_at']] = dataframe.loc[sv,['ended_at','started_at']].values"
   ]
  },
  {
   "cell_type": "markdown",
   "id": "13e5be8f",
   "metadata": {},
   "source": [
    "# "
   ]
  },
  {
   "cell_type": "code",
   "execution_count": null,
   "id": "a2f204b9",
   "metadata": {},
   "outputs": [],
   "source": [
    "# Make new column, value from ended_at minus started_at\n",
    "\n",
    "dataframe['using_bike'] = pd.to_datetime(dataframe['ended_at']) - pd.to_datetime(dataframe['started_at'])\n",
    "\n"
   ]
  },
  {
   "cell_type": "markdown",
   "id": "cced5e4f",
   "metadata": {},
   "source": [
    "# "
   ]
  },
  {
   "cell_type": "code",
   "execution_count": 31,
   "id": "b8a1db45",
   "metadata": {},
   "outputs": [],
   "source": [
    "# check if started_at value not same with ended_at, then apply it\n",
    "\n",
    "dataframe = dataframe[dataframe.started_at != dataframe.ended_at]"
   ]
  },
  {
   "cell_type": "code",
   "execution_count": 32,
   "id": "cf18a0d2",
   "metadata": {},
   "outputs": [],
   "source": [
    "# reset index, with drop index column\n",
    "\n",
    "dataframe.reset_index(inplace = True, drop = True)"
   ]
  },
  {
   "cell_type": "markdown",
   "id": "351cf74f",
   "metadata": {},
   "source": [
    "# "
   ]
  },
  {
   "cell_type": "code",
   "execution_count": null,
   "id": "45705826",
   "metadata": {},
   "outputs": [],
   "source": [
    "#dataframe['started_at'] = \n",
    "# fail\n",
    "# use code below\n",
    "\n",
    "dataframe['started_at'].apply(lambda x: dt.datetime.strftime(x, '%Y-%m-%d %H:%M:%S'))"
   ]
  },
  {
   "cell_type": "code",
   "execution_count": 59,
   "id": "29ea627a",
   "metadata": {},
   "outputs": [],
   "source": [
    "# convert object / string date to datetime\n",
    "\n",
    "dataframe['started_at'] = pd.to_datetime(dataframe['started_at'].str.strip(), format='%Y-%m-%d %H:%M:%S')\n",
    "dataframe['ended_at'] = pd.to_datetime(dataframe['ended_at'].str.strip(), format='%Y-%m-%d %H:%M:%S')"
   ]
  },
  {
   "cell_type": "markdown",
   "id": "b926a8a3",
   "metadata": {},
   "source": [
    "# "
   ]
  },
  {
   "cell_type": "code",
   "execution_count": null,
   "id": "942ce35e",
   "metadata": {},
   "outputs": [],
   "source": [
    "# calculate day name (day of week) with started_at value datetime\n",
    "\n",
    "dataframe['start_day']=dataframe['started_at'].dt.day_name()\n",
    "dataframe.head(5)"
   ]
  },
  {
   "cell_type": "code",
   "execution_count": 74,
   "id": "1569e1b9",
   "metadata": {},
   "outputs": [
    {
     "data": {
      "text/html": [
       "<div>\n",
       "<style scoped>\n",
       "    .dataframe tbody tr th:only-of-type {\n",
       "        vertical-align: middle;\n",
       "    }\n",
       "\n",
       "    .dataframe tbody tr th {\n",
       "        vertical-align: top;\n",
       "    }\n",
       "\n",
       "    .dataframe thead th {\n",
       "        text-align: right;\n",
       "    }\n",
       "</style>\n",
       "<table border=\"1\" class=\"dataframe\">\n",
       "  <thead>\n",
       "    <tr style=\"text-align: right;\">\n",
       "      <th></th>\n",
       "      <th>ride_id</th>\n",
       "      <th>rideable_type</th>\n",
       "      <th>started_at</th>\n",
       "      <th>ended_at</th>\n",
       "      <th>start_station_name</th>\n",
       "      <th>start_station_id</th>\n",
       "      <th>end_station_name</th>\n",
       "      <th>end_station_id</th>\n",
       "      <th>start_lat</th>\n",
       "      <th>start_lng</th>\n",
       "      <th>end_lat</th>\n",
       "      <th>end_lng</th>\n",
       "      <th>member_casual</th>\n",
       "      <th>using_bike</th>\n",
       "      <th>start_day</th>\n",
       "    </tr>\n",
       "  </thead>\n",
       "  <tbody>\n",
       "    <tr>\n",
       "      <th>0</th>\n",
       "      <td>C2F7DD78E82EC875</td>\n",
       "      <td>electric_bike</td>\n",
       "      <td>2022-01-13 11:59:47</td>\n",
       "      <td>2022-01-13 12:02:44</td>\n",
       "      <td>Glenwood Ave &amp; Touhy Ave</td>\n",
       "      <td>525</td>\n",
       "      <td>Clark St &amp; Touhy Ave</td>\n",
       "      <td>RP-007</td>\n",
       "      <td>42.012800</td>\n",
       "      <td>-87.665906</td>\n",
       "      <td>42.012560</td>\n",
       "      <td>-87.674367</td>\n",
       "      <td>casual</td>\n",
       "      <td>0 days 00:02:57</td>\n",
       "      <td>Thursday</td>\n",
       "    </tr>\n",
       "    <tr>\n",
       "      <th>1</th>\n",
       "      <td>A6CF8980A652D272</td>\n",
       "      <td>electric_bike</td>\n",
       "      <td>2022-01-10 08:41:56</td>\n",
       "      <td>2022-01-10 08:46:17</td>\n",
       "      <td>Glenwood Ave &amp; Touhy Ave</td>\n",
       "      <td>525</td>\n",
       "      <td>Clark St &amp; Touhy Ave</td>\n",
       "      <td>RP-007</td>\n",
       "      <td>42.012763</td>\n",
       "      <td>-87.665967</td>\n",
       "      <td>42.012560</td>\n",
       "      <td>-87.674367</td>\n",
       "      <td>casual</td>\n",
       "      <td>0 days 00:04:21</td>\n",
       "      <td>Monday</td>\n",
       "    </tr>\n",
       "    <tr>\n",
       "      <th>2</th>\n",
       "      <td>BD0F91DFF741C66D</td>\n",
       "      <td>classic_bike</td>\n",
       "      <td>2022-01-25 04:53:40</td>\n",
       "      <td>2022-01-25 04:58:01</td>\n",
       "      <td>Sheffield Ave &amp; Fullerton Ave</td>\n",
       "      <td>TA1306000016</td>\n",
       "      <td>Greenview Ave &amp; Fullerton Ave</td>\n",
       "      <td>TA1307000001</td>\n",
       "      <td>41.925602</td>\n",
       "      <td>-87.653708</td>\n",
       "      <td>41.925330</td>\n",
       "      <td>-87.665800</td>\n",
       "      <td>member</td>\n",
       "      <td>0 days 00:04:21</td>\n",
       "      <td>Tuesday</td>\n",
       "    </tr>\n",
       "    <tr>\n",
       "      <th>3</th>\n",
       "      <td>CBB80ED419105406</td>\n",
       "      <td>classic_bike</td>\n",
       "      <td>2022-01-04 00:18:04</td>\n",
       "      <td>2022-01-04 00:33:00</td>\n",
       "      <td>Clark St &amp; Bryn Mawr Ave</td>\n",
       "      <td>KA1504000151</td>\n",
       "      <td>Paulina St &amp; Montrose Ave</td>\n",
       "      <td>TA1309000021</td>\n",
       "      <td>41.983593</td>\n",
       "      <td>-87.669154</td>\n",
       "      <td>41.961507</td>\n",
       "      <td>-87.671387</td>\n",
       "      <td>casual</td>\n",
       "      <td>0 days 00:14:56</td>\n",
       "      <td>Tuesday</td>\n",
       "    </tr>\n",
       "    <tr>\n",
       "      <th>4</th>\n",
       "      <td>DDC963BFDDA51EEA</td>\n",
       "      <td>classic_bike</td>\n",
       "      <td>2022-01-20 01:31:10</td>\n",
       "      <td>2022-01-20 01:37:12</td>\n",
       "      <td>Michigan Ave &amp; Jackson Blvd</td>\n",
       "      <td>TA1309000002</td>\n",
       "      <td>State St &amp; Randolph St</td>\n",
       "      <td>TA1305000029</td>\n",
       "      <td>41.877850</td>\n",
       "      <td>-87.624080</td>\n",
       "      <td>41.884621</td>\n",
       "      <td>-87.627834</td>\n",
       "      <td>member</td>\n",
       "      <td>0 days 00:06:02</td>\n",
       "      <td>Thursday</td>\n",
       "    </tr>\n",
       "  </tbody>\n",
       "</table>\n",
       "</div>"
      ],
      "text/plain": [
       "            ride_id  rideable_type          started_at            ended_at  \\\n",
       "0  C2F7DD78E82EC875  electric_bike 2022-01-13 11:59:47 2022-01-13 12:02:44   \n",
       "1  A6CF8980A652D272  electric_bike 2022-01-10 08:41:56 2022-01-10 08:46:17   \n",
       "2  BD0F91DFF741C66D   classic_bike 2022-01-25 04:53:40 2022-01-25 04:58:01   \n",
       "3  CBB80ED419105406   classic_bike 2022-01-04 00:18:04 2022-01-04 00:33:00   \n",
       "4  DDC963BFDDA51EEA   classic_bike 2022-01-20 01:31:10 2022-01-20 01:37:12   \n",
       "\n",
       "              start_station_name start_station_id  \\\n",
       "0       Glenwood Ave & Touhy Ave              525   \n",
       "1       Glenwood Ave & Touhy Ave              525   \n",
       "2  Sheffield Ave & Fullerton Ave     TA1306000016   \n",
       "3       Clark St & Bryn Mawr Ave     KA1504000151   \n",
       "4    Michigan Ave & Jackson Blvd     TA1309000002   \n",
       "\n",
       "                end_station_name end_station_id  start_lat  start_lng  \\\n",
       "0           Clark St & Touhy Ave         RP-007  42.012800 -87.665906   \n",
       "1           Clark St & Touhy Ave         RP-007  42.012763 -87.665967   \n",
       "2  Greenview Ave & Fullerton Ave   TA1307000001  41.925602 -87.653708   \n",
       "3      Paulina St & Montrose Ave   TA1309000021  41.983593 -87.669154   \n",
       "4         State St & Randolph St   TA1305000029  41.877850 -87.624080   \n",
       "\n",
       "     end_lat    end_lng member_casual      using_bike start_day  \n",
       "0  42.012560 -87.674367        casual 0 days 00:02:57  Thursday  \n",
       "1  42.012560 -87.674367        casual 0 days 00:04:21    Monday  \n",
       "2  41.925330 -87.665800        member 0 days 00:04:21   Tuesday  \n",
       "3  41.961507 -87.671387        casual 0 days 00:14:56   Tuesday  \n",
       "4  41.884621 -87.627834        member 0 days 00:06:02  Thursday  "
      ]
     },
     "execution_count": 74,
     "metadata": {},
     "output_type": "execute_result"
    }
   ],
   "source": [
    "dataframe.head(5)"
   ]
  },
  {
   "cell_type": "markdown",
   "id": "4237eb53",
   "metadata": {},
   "source": [
    "# Convert data type"
   ]
  },
  {
   "cell_type": "code",
   "execution_count": null,
   "id": "1ce15ca7",
   "metadata": {},
   "outputs": [],
   "source": [
    "# Converting data type\n",
    "data['Id'] = data.Id.astype('string')"
   ]
  },
  {
   "cell_type": "code",
   "execution_count": null,
   "id": "aa58612f",
   "metadata": {},
   "outputs": [],
   "source": [
    "data['ActivityDate'] = pd.to_datetime(data['ActivityDate'])"
   ]
  },
  {
   "cell_type": "markdown",
   "id": "268c95dd",
   "metadata": {},
   "source": [
    "# Plot"
   ]
  },
  {
   "cell_type": "raw",
   "id": "167be7e7",
   "metadata": {},
   "source": [
    "# member_casual = dataframe['member_casual']\n",
    "#ride_id = dataframe['ride_id']\n",
    " \n",
    "# Figure Size\n",
    "#fig = plt.figure(figsize =(10, 7))\n",
    " \n",
    "# Horizontal Bar Plot\n",
    "#plt.bar(member_casual, ride_id)\n",
    "#plt.xlabel(\"member_casual\")\n",
    "#plt.ylabel(\"ride_id\")\n",
    "\n",
    "# Show Plot\n",
    "#plt.show()"
   ]
  },
  {
   "cell_type": "code",
   "execution_count": 93,
   "id": "b2b19dea",
   "metadata": {},
   "outputs": [
    {
     "data": {
      "text/plain": [
       "member    2102119\n",
       "casual    1374143\n",
       "Name: member_casual, dtype: int64"
      ]
     },
     "execution_count": 93,
     "metadata": {},
     "output_type": "execute_result"
    }
   ],
   "source": [
    "dataframe.member_casual.value_counts()"
   ]
  },
  {
   "cell_type": "code",
   "execution_count": 9,
   "id": "da23fbc6",
   "metadata": {},
   "outputs": [
    {
     "data": {
      "image/png": "[encoded data removed]",
      "text/plain": [
       "<Figure size 720x504 with 1 Axes>"
      ]
     },
     "metadata": {
      "needs_background": "light"
     },
     "output_type": "display_data"
    }
   ],
   "source": [
    "# Figure size\n",
    "fig = plt.figure(figsize =(10, 7))\n",
    "\n",
    "# Main\n",
    "# add ax to make value label appear\n",
    "ax = dataframe.member_casual.value_counts().sort_values().plot(kind = 'bar', title='Total of Member Type')\n",
    "\n",
    "# Attribue\n",
    "plt.xlabel('Member Type')\n",
    "plt.xticks(rotation=0)\n",
    "plt.ylabel('Total')\n",
    "plt.yticks(style='normal')\n",
    "# Disable scientific notation in value label using fmt = '%d'\n",
    "#https://stackoverflow.com/questions/69045499/how-to-get-rid-of-scientific-notation-on-bar-labels-in-matplotlib\n",
    "ax.bar_label(ax.containers[0], fmt = '%d')\n",
    "\n",
    "# Disable scientific notation in y axis\n",
    "#https://stackoverflow.com/questions/25447700/annotate-bars-with-values-on-pandas-bar-plots\n",
    "ax.get_yaxis().get_major_formatter().set_scientific(False)\n"
   ]
  },
  {
   "cell_type": "code",
   "execution_count": 10,
   "id": "24930609",
   "metadata": {
    "scrolled": false
   },
   "outputs": [
    {
     "data": {
      "image/png": "[encoded data removed]",
      "text/plain": [
       "<Figure size 720x504 with 1 Axes>"
      ]
     },
     "metadata": {
      "needs_background": "light"
     },
     "output_type": "display_data"
    }
   ],
   "source": [
    "#https://www.statology.org/pandas-plot-value-counts/\n",
    "\n",
    "# Figure size\n",
    "fig = plt.figure(figsize =(10, 7))\n",
    "\n",
    "# Main\n",
    "# add ax to make value label appear\n",
    "ax = dataframe.start_day.value_counts().sort_values().plot(kind = 'bar', title='Popular Day to Using Bike')\n",
    "\n",
    "# Attribue\n",
    "plt.xlabel('Day')\n",
    "plt.xticks(rotation=0)\n",
    "plt.ylabel('Total')\n",
    "plt.yticks(style='normal')\n",
    "# Disable scientific notation in value label using fmt = '%d'\n",
    "#https://stackoverflow.com/questions/69045499/how-to-get-rid-of-scientific-notation-on-bar-labels-in-matplotlib\n",
    "ax.bar_label(ax.containers[0], fmt = '%d')\n",
    "\n",
    "# Disable scientific notation in y axis\n",
    "#https://stackoverflow.com/questions/25447700/annotate-bars-with-values-on-pandas-bar-plots\n",
    "ax.get_yaxis().get_major_formatter().set_scientific(False)\n"
   ]
  },
  {
   "cell_type": "code",
   "execution_count": 11,
   "id": "78d7eb64",
   "metadata": {},
   "outputs": [
    {
     "data": {
      "image/png": "[encoded data removed]",
      "text/plain": [
       "<Figure size 720x504 with 1 Axes>"
      ]
     },
     "metadata": {
      "needs_background": "light"
     },
     "output_type": "display_data"
    }
   ],
   "source": [
    "# Figure size\n",
    "fig = plt.figure(figsize =(10, 7))\n",
    "\n",
    "# Main\n",
    "# add ax to make value label appear\n",
    "ax = dataframe.rideable_type.value_counts().sort_values().plot(kind = 'bar', title='Total of Rideable Type')\n",
    "\n",
    "# Attribue\n",
    "plt.xlabel('Rideable Type')\n",
    "plt.xticks(rotation=0)\n",
    "plt.ylabel('Total')\n",
    "plt.yticks(style='normal')\n",
    "# Disable scientific notation in value label using fmt = '%d'\n",
    "#https://stackoverflow.com/questions/69045499/how-to-get-rid-of-scientific-notation-on-bar-labels-in-matplotlib\n",
    "ax.bar_label(ax.containers[0], fmt = '%d')\n",
    "\n",
    "# Disable scientific notation in y axis\n",
    "#https://stackoverflow.com/questions/25447700/annotate-bars-with-values-on-pandas-bar-plots\n",
    "ax.get_yaxis().get_major_formatter().set_scientific(False)\n"
   ]
  },
  {
   "cell_type": "code",
   "execution_count": 127,
   "id": "b8782926",
   "metadata": {},
   "outputs": [
    {
     "data": {
      "text/plain": [
       "Timedelta('0 days 00:16:48.273525988')"
      ]
     },
     "execution_count": 127,
     "metadata": {},
     "output_type": "execute_result"
    }
   ],
   "source": [
    "dataframe.using_bike.mean()"
   ]
  },
  {
   "cell_type": "code",
   "execution_count": 124,
   "id": "5aaa0c9e",
   "metadata": {},
   "outputs": [
    {
     "data": {
      "text/plain": [
       "Timedelta('23 days 20:34:04')"
      ]
     },
     "execution_count": 124,
     "metadata": {},
     "output_type": "execute_result"
    }
   ],
   "source": [
    "dataframe.using_bike.max()"
   ]
  },
  {
   "cell_type": "code",
   "execution_count": 125,
   "id": "5da15bb7",
   "metadata": {},
   "outputs": [
    {
     "data": {
      "text/plain": [
       "Timedelta('0 days 00:00:01')"
      ]
     },
     "execution_count": 125,
     "metadata": {},
     "output_type": "execute_result"
    }
   ],
   "source": [
    "dataframe.using_bike.min()"
   ]
  },
  {
   "cell_type": "markdown",
   "id": "b743b491",
   "metadata": {},
   "source": [
    "# Needs work in this section"
   ]
  },
  {
   "cell_type": "code",
   "execution_count": null,
   "id": "9edf0bea",
   "metadata": {},
   "outputs": [],
   "source": [
    "dataframe.groupby('member_casual', as_index=False)['using_bike'].mean()"
   ]
  },
  {
   "cell_type": "code",
   "execution_count": null,
   "id": "1fbcc7c3",
   "metadata": {},
   "outputs": [],
   "source": [
    "dataframe.groupby('member_casual', as_index=False)['rideable_type'].mean()"
   ]
  },
  {
   "cell_type": "code",
   "execution_count": null,
   "id": "712a2565",
   "metadata": {},
   "outputs": [],
   "source": [
    "df.groupby('ocean_proximity')['median_house_value'].mean().plot.bar()"
   ]
  },
  {
   "cell_type": "code",
   "execution_count": 5,
   "id": "e8cde9e5",
   "metadata": {},
   "outputs": [
    {
     "data": {
      "text/plain": [
       "<Figure size 720x504 with 0 Axes>"
      ]
     },
     "metadata": {},
     "output_type": "display_data"
    },
    {
     "data": {
      "image/png": "[encoded data removed]",
      "text/plain": [
       "<Figure size 432x288 with 1 Axes>"
      ]
     },
     "metadata": {
      "needs_background": "light"
     },
     "output_type": "display_data"
    }
   ],
   "source": [
    "# Figure size\n",
    "fig = plt.figure(figsize =(10, 7))\n",
    "\n",
    "# Main\n",
    "# add ax to make value label appear\n",
    "#ax = dataframe.rideable_type.value_counts().sort_values().plot(kind = 'bar', title='Total of Rideable Type')\n",
    "#ax = dataframe.plot(x=\"member_casual\", y=[\"rideable_type\", \"using_bike\"], kind=\"bar\")\n",
    "ax = dataframe.groupby('member_casual', as_index=False)['using_bike'].count().plot(kind = 'bar', title='Total of Rideable Type')\n",
    "\n",
    "# Attribue\n",
    "plt.xlabel('Rideable Type')\n",
    "plt.xticks(rotation=0)\n",
    "plt.ylabel('Total')\n",
    "plt.yticks(style='normal')\n",
    "# Disable scientific notation in value label using fmt = '%d'\n",
    "#https://stackoverflow.com/questions/69045499/how-to-get-rid-of-scientific-notation-on-bar-labels-in-matplotlib\n",
    "ax.bar_label(ax.containers[0], fmt = '%d')\n",
    "\n",
    "# Disable scientific notation in y axis\n",
    "#https://stackoverflow.com/questions/25447700/annotate-bars-with-values-on-pandas-bar-plots\n",
    "ax.get_yaxis().get_major_formatter().set_scientific(False)\n"
   ]
  },
  {
   "cell_type": "code",
   "execution_count": null,
   "id": "8d5091ef",
   "metadata": {},
   "outputs": [],
   "source": [
    "df.groupby(['revenue','session','user_id'])['user_id'].count()\n"
   ]
  },
  {
   "cell_type": "code",
   "execution_count": null,
   "id": "dfbe79ac",
   "metadata": {},
   "outputs": [],
   "source": [
    "dataframe.groupby('member_casual', as_index=False)['using_bike'].mean()"
   ]
  },
  {
   "cell_type": "code",
   "execution_count": null,
   "id": "9a708661",
   "metadata": {},
   "outputs": [],
   "source": [
    "dataframe.describe() start_day"
   ]
  },
  {
   "cell_type": "markdown",
   "id": "221c0567",
   "metadata": {},
   "source": [
    "# Save to Csv"
   ]
  },
  {
   "cell_type": "code",
   "execution_count": 1,
   "id": "f1dc160f",
   "metadata": {},
   "outputs": [
    {
     "ename": "NameError",
     "evalue": "name 'dataframe' is not defined",
     "output_type": "error",
     "traceback": [
      "\u001b[1;31m---------------------------------------------------------------------------\u001b[0m",
      "\u001b[1;31mNameError\u001b[0m                                 Traceback (most recent call last)",
      "Input \u001b[1;32mIn [1]\u001b[0m, in \u001b[0;36m<cell line: 3>\u001b[1;34m()\u001b[0m\n\u001b[0;32m      1\u001b[0m \u001b[38;5;66;03m# saving the DataFrame as a CSV file\u001b[39;00m\n\u001b[1;32m----> 3\u001b[0m csv_data \u001b[38;5;241m=\u001b[39m \u001b[43mdataframe\u001b[49m\u001b[38;5;241m.\u001b[39mto_csv(\u001b[38;5;124m'\u001b[39m\u001b[38;5;124mMerged.csv\u001b[39m\u001b[38;5;124m'\u001b[39m, index \u001b[38;5;241m=\u001b[39m \u001b[38;5;28;01mTrue\u001b[39;00m)\n",
      "\u001b[1;31mNameError\u001b[0m: name 'dataframe' is not defined"
     ]
    }
   ],
   "source": [
    "# saving the DataFrame as a CSV file\n",
    "\n",
    "csv_data = dataframe.to_csv('Merged.csv', index = True)"
   ]
  },
  {
   "cell_type": "code",
   "execution_count": null,
   "id": "72e1f1c6",
   "metadata": {},
   "outputs": [],
   "source": []
  }
 ],
 "metadata": {
  "kernelspec": {
   "display_name": "Python 3 (ipykernel)",
   "language": "python",
   "name": "python3"
  },
  "language_info": {
   "codemirror_mode": {
    "name": "ipython",
    "version": 3
   },
   "file_extension": ".py",
   "mimetype": "text/x-python",
   "name": "python",
   "nbconvert_exporter": "python",
   "pygments_lexer": "ipython3",
   "version": "3.9.12"
  }
 },
 "nbformat": 4,
 "nbformat_minor": 5
}
